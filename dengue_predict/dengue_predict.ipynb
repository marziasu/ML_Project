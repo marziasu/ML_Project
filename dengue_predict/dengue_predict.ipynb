{
 "cells": [
  {
   "cell_type": "code",
   "execution_count": 8,
   "id": "07915bf5",
   "metadata": {},
   "outputs": [],
   "source": [
    "import pandas as pd\n",
    "import numpy as np\n",
    "import matplotlib.pyplot as plt"
   ]
  },
  {
   "cell_type": "code",
   "execution_count": 2,
   "id": "5f3de652",
   "metadata": {},
   "outputs": [],
   "source": [
    "df=pd.read_csv('dengue.csv')"
   ]
  },
  {
   "cell_type": "code",
   "execution_count": 3,
   "id": "993d1d92",
   "metadata": {},
   "outputs": [
    {
     "data": {
      "text/html": [
       "<div>\n",
       "<style scoped>\n",
       "    .dataframe tbody tr th:only-of-type {\n",
       "        vertical-align: middle;\n",
       "    }\n",
       "\n",
       "    .dataframe tbody tr th {\n",
       "        vertical-align: top;\n",
       "    }\n",
       "\n",
       "    .dataframe thead th {\n",
       "        text-align: right;\n",
       "    }\n",
       "</style>\n",
       "<table border=\"1\" class=\"dataframe\">\n",
       "  <thead>\n",
       "    <tr style=\"text-align: right;\">\n",
       "      <th></th>\n",
       "      <th>Gender</th>\n",
       "      <th>Age</th>\n",
       "      <th>NS1</th>\n",
       "      <th>IgG</th>\n",
       "      <th>IgM</th>\n",
       "      <th>Area</th>\n",
       "      <th>AreaType</th>\n",
       "      <th>HouseType</th>\n",
       "      <th>District</th>\n",
       "      <th>Outcome</th>\n",
       "    </tr>\n",
       "  </thead>\n",
       "  <tbody>\n",
       "    <tr>\n",
       "      <th>0</th>\n",
       "      <td>Female</td>\n",
       "      <td>45</td>\n",
       "      <td>0</td>\n",
       "      <td>0</td>\n",
       "      <td>0</td>\n",
       "      <td>Mirpur</td>\n",
       "      <td>Undeveloped</td>\n",
       "      <td>Building</td>\n",
       "      <td>Dhaka</td>\n",
       "      <td>0</td>\n",
       "    </tr>\n",
       "    <tr>\n",
       "      <th>1</th>\n",
       "      <td>Male</td>\n",
       "      <td>17</td>\n",
       "      <td>0</td>\n",
       "      <td>0</td>\n",
       "      <td>1</td>\n",
       "      <td>Chawkbazar</td>\n",
       "      <td>Developed</td>\n",
       "      <td>Building</td>\n",
       "      <td>Dhaka</td>\n",
       "      <td>0</td>\n",
       "    </tr>\n",
       "    <tr>\n",
       "      <th>2</th>\n",
       "      <td>Female</td>\n",
       "      <td>29</td>\n",
       "      <td>0</td>\n",
       "      <td>0</td>\n",
       "      <td>0</td>\n",
       "      <td>Paltan</td>\n",
       "      <td>Undeveloped</td>\n",
       "      <td>Other</td>\n",
       "      <td>Dhaka</td>\n",
       "      <td>0</td>\n",
       "    </tr>\n",
       "    <tr>\n",
       "      <th>3</th>\n",
       "      <td>Female</td>\n",
       "      <td>63</td>\n",
       "      <td>1</td>\n",
       "      <td>1</td>\n",
       "      <td>0</td>\n",
       "      <td>Motijheel</td>\n",
       "      <td>Developed</td>\n",
       "      <td>Other</td>\n",
       "      <td>Dhaka</td>\n",
       "      <td>1</td>\n",
       "    </tr>\n",
       "    <tr>\n",
       "      <th>4</th>\n",
       "      <td>Male</td>\n",
       "      <td>22</td>\n",
       "      <td>0</td>\n",
       "      <td>0</td>\n",
       "      <td>0</td>\n",
       "      <td>Gendaria</td>\n",
       "      <td>Undeveloped</td>\n",
       "      <td>Building</td>\n",
       "      <td>Dhaka</td>\n",
       "      <td>0</td>\n",
       "    </tr>\n",
       "  </tbody>\n",
       "</table>\n",
       "</div>"
      ],
      "text/plain": [
       "   Gender  Age  NS1  IgG  IgM        Area     AreaType HouseType District  \\\n",
       "0  Female   45    0    0    0      Mirpur  Undeveloped  Building    Dhaka   \n",
       "1    Male   17    0    0    1  Chawkbazar    Developed  Building    Dhaka   \n",
       "2  Female   29    0    0    0      Paltan  Undeveloped     Other    Dhaka   \n",
       "3  Female   63    1    1    0   Motijheel    Developed     Other    Dhaka   \n",
       "4    Male   22    0    0    0    Gendaria  Undeveloped  Building    Dhaka   \n",
       "\n",
       "   Outcome  \n",
       "0        0  \n",
       "1        0  \n",
       "2        0  \n",
       "3        1  \n",
       "4        0  "
      ]
     },
     "execution_count": 3,
     "metadata": {},
     "output_type": "execute_result"
    }
   ],
   "source": [
    "df.head()"
   ]
  },
  {
   "cell_type": "code",
   "execution_count": 5,
   "id": "47280849",
   "metadata": {},
   "outputs": [
    {
     "data": {
      "text/plain": [
       "(1000, 10)"
      ]
     },
     "execution_count": 5,
     "metadata": {},
     "output_type": "execute_result"
    }
   ],
   "source": [
    "df.shape"
   ]
  },
  {
   "cell_type": "code",
   "execution_count": 6,
   "id": "132d0a18",
   "metadata": {},
   "outputs": [
    {
     "name": "stdout",
     "output_type": "stream",
     "text": [
      "<class 'pandas.core.frame.DataFrame'>\n",
      "RangeIndex: 1000 entries, 0 to 999\n",
      "Data columns (total 10 columns):\n",
      " #   Column     Non-Null Count  Dtype \n",
      "---  ------     --------------  ----- \n",
      " 0   Gender     1000 non-null   object\n",
      " 1   Age        1000 non-null   int64 \n",
      " 2   NS1        1000 non-null   int64 \n",
      " 3   IgG        1000 non-null   int64 \n",
      " 4   IgM        1000 non-null   int64 \n",
      " 5   Area       1000 non-null   object\n",
      " 6   AreaType   1000 non-null   object\n",
      " 7   HouseType  1000 non-null   object\n",
      " 8   District   1000 non-null   object\n",
      " 9   Outcome    1000 non-null   int64 \n",
      "dtypes: int64(5), object(5)\n",
      "memory usage: 78.2+ KB\n"
     ]
    }
   ],
   "source": [
    "df.info()"
   ]
  },
  {
   "cell_type": "code",
   "execution_count": 12,
   "id": "2ae62c12",
   "metadata": {},
   "outputs": [
    {
     "data": {
      "text/plain": [
       "(array([108., 110.,  93.,  89.,  98., 114., 100., 113.,  83.,  92.]),\n",
       " array([ 8. , 13.7, 19.4, 25.1, 30.8, 36.5, 42.2, 47.9, 53.6, 59.3, 65. ]),\n",
       " <BarContainer object of 10 artists>)"
      ]
     },
     "execution_count": 12,
     "metadata": {},
     "output_type": "execute_result"
    },
    {
     "data": {
      "image/png": "[encoded data removed]",
      "text/plain": [
       "<Figure size 432x288 with 1 Axes>"
      ]
     },
     "metadata": {
      "needs_background": "light"
     },
     "output_type": "display_data"
    }
   ],
   "source": [
    "plt.hist(df['Age'],edgecolor='black')"
   ]
  },
  {
   "cell_type": "code",
   "execution_count": 25,
   "id": "a903521f",
   "metadata": {},
   "outputs": [
    {
     "data": {
      "text/plain": [
       "58"
      ]
     },
     "execution_count": 25,
     "metadata": {},
     "output_type": "execute_result"
    }
   ],
   "source": [
    "plt.pie"
   ]
  }
 ],
 "metadata": {
  "kernelspec": {
   "display_name": "Python 3 (ipykernel)",
   "language": "python",
   "name": "python3"
  },
  "language_info": {
   "codemirror_mode": {
    "name": "ipython",
    "version": 3
   },
   "file_extension": ".py",
   "mimetype": "text/x-python",
   "name": "python",
   "nbconvert_exporter": "python",
   "pygments_lexer": "ipython3",
   "version": "3.9.12"
  }
 },
 "nbformat": 4,
 "nbformat_minor": 5
}
